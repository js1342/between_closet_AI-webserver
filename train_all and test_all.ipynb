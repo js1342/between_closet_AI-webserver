{
 "cells": [
  {
   "cell_type": "code",
   "execution_count": 7,
   "metadata": {},
   "outputs": [
    {
     "name": "stdout",
     "output_type": "stream",
     "text": [
      "INFO:tensorflow:Using MirroredStrategy with devices ('/job:localhost/replica:0/task:0/device:GPU:0',)\n"
     ]
    }
   ],
   "source": [
    "# trainset, testset은\n",
    "# 각기 a~z 폴더 안에 파일들이 들어가 있는 형태\n",
    "\n",
    "# mmdetection적용을 위해\n",
    "# trainset과 testset의 파일들을\n",
    "# 하나의 폴더로 이동\n",
    "\n",
    "from shutil import copyfile\n",
    "from glob import glob\n",
    "from tqdm import tqdm\n",
    "import os\n",
    "\n",
    "import tensorflow as tf\n",
    "\n",
    "gpus = tf.config.experimental.list_physical_devices('GPU')\n",
    "strategy = tf.distribute.MirroredStrategy()"
   ]
  },
  {
   "cell_type": "code",
   "execution_count": 2,
   "metadata": {},
   "outputs": [],
   "source": [
    "train_paths = glob(os.path.join('data', 'train', '*', '*.jpg'))\n",
    "test_paths = glob(os.path.join('data', 'test', '*', '*.jpg'))"
   ]
  },
  {
   "cell_type": "code",
   "execution_count": 3,
   "metadata": {},
   "outputs": [
    {
     "data": {
      "text/plain": [
       "(95454, 8000)"
      ]
     },
     "execution_count": 3,
     "metadata": {},
     "output_type": "execute_result"
    }
   ],
   "source": [
    "len(train_paths), len(test_paths)"
   ]
  },
  {
   "cell_type": "code",
   "execution_count": 5,
   "metadata": {},
   "outputs": [],
   "source": [
    "train_rename = ['data/train_all/' + train_path.split('/')[-1] for train_path in train_paths]\n",
    "test_rename = ['data/test_all/' + test_path.split('/')[-1] for test_path in test_paths]"
   ]
  },
  {
   "cell_type": "code",
   "execution_count": 6,
   "metadata": {},
   "outputs": [
    {
     "name": "stderr",
     "output_type": "stream",
     "text": [
      "100%|██████████| 95454/95454 [01:59<00:00, 796.80it/s]\n"
     ]
    }
   ],
   "source": [
    "for i in tqdm(range(len(train_paths))):\n",
    "    copyfile(train_paths[i], train_rename[i])"
   ]
  },
  {
   "cell_type": "code",
   "execution_count": 8,
   "metadata": {},
   "outputs": [
    {
     "name": "stderr",
     "output_type": "stream",
     "text": [
      "100%|██████████| 8000/8000 [00:09<00:00, 834.21it/s]\n"
     ]
    }
   ],
   "source": [
    "with strategy.scope():\n",
    "    for i in tqdm(range(len(test_paths))):\n",
    "        copyfile(test_paths[i], test_rename[i])"
   ]
  }
 ],
 "metadata": {
  "kernelspec": {
   "display_name": "Python [conda env:tensorflow2_p36]",
   "language": "python",
   "name": "conda-env-tensorflow2_p36-py"
  },
  "language_info": {
   "codemirror_mode": {
    "name": "ipython",
    "version": 3
   },
   "file_extension": ".py",
   "mimetype": "text/x-python",
   "name": "python",
   "nbconvert_exporter": "python",
   "pygments_lexer": "ipython3",
   "version": "3.6.10"
  }
 },
 "nbformat": 4,
 "nbformat_minor": 4
}
