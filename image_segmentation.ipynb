{
 "cells": [
  {
   "cell_type": "code",
   "execution_count": 31,
   "metadata": {},
   "outputs": [],
   "source": [
    "# mmdetection이 도출한 segm.json 파일을 기반으로\n",
    "# 이미지 segmentation 진행\n",
    "\n",
    "# Import libraries\n",
    "import numpy as np\n",
    "import cv2\n",
    "import json\n",
    "import pycocotools.mask as mask\n",
    "\n",
    "# Read the annotations\n",
    "file_path = \"./mmdetection/gwang_test.segm.json\"\n",
    "with open(file_path, 'r') as f:\n",
    "    data = json.load(f)\n",
    "\n",
    "updated_data = []\n",
    "\n",
    "# For each annotation\n",
    "for annotation in data:\n",
    "\n",
    "    # Initialize variables\n",
    "    obj = {}\n",
    "    segmentation = []\n",
    "    segmentation_polygons = []\n",
    "\n",
    "    # Decode the binary mask\n",
    "    mask_list = mask.decode(annotation['segmentation'])\n",
    "    mask_list = np.ascontiguousarray(mask_list, dtype=np.uint8)\n",
    "    contours, hierarchy = cv2.findContours((mask_list).astype(np.uint8), cv2.RETR_TREE, cv2.CHAIN_APPROX_SIMPLE)\n",
    " \n",
    "    # Get the contours\n",
    "    for contour in contours:\n",
    "        contour = contour.flatten().tolist()\n",
    "        segmentation.append(contour)\n",
    "        if len(contour) > 4:\n",
    "            segmentation.append(contour)\n",
    "    if len(segmentation) == 0:\n",
    "        continue\n",
    "\n",
    "    # Get the polygons as (x, y) coordinates\n",
    "    for i, segment in enumerate(segmentation):\n",
    "        poligon = []\n",
    "        poligons = []\n",
    "        for j in range(len(segment)):\n",
    "            poligon.append(segment[j])\n",
    "            if (j+1)%2 == 0:\n",
    "                poligons.append(poligon)\n",
    "                poligon = []\n",
    "        segmentation_polygons.append(poligons)\n",
    "\n",
    "    # Save the segmentation and polygons for the current annotation\n",
    "#     obj['segmentation'] = segmentation\n",
    "    obj['image_id'] = annotation['image_id']\n",
    "    obj['segmentation_polygons'] = segmentation_polygons\n",
    "    updated_data.append(obj)"
   ]
  },
  {
   "cell_type": "code",
   "execution_count": 91,
   "metadata": {},
   "outputs": [],
   "source": [
    "check = []\n",
    "for i in range(len(updated_data)):\n",
    "    check.append(updated_data[i]['image_id'])"
   ]
  },
  {
   "cell_type": "code",
   "execution_count": 62,
   "metadata": {},
   "outputs": [
    {
     "data": {
      "text/plain": [
       "array([[[144, 141],\n",
       "        [143, 142],\n",
       "        [141, 142],\n",
       "        ...,\n",
       "        [216, 142],\n",
       "        [208, 142],\n",
       "        [207, 141]],\n",
       "\n",
       "       [[144, 141],\n",
       "        [143, 142],\n",
       "        [141, 142],\n",
       "        ...,\n",
       "        [216, 142],\n",
       "        [208, 142],\n",
       "        [207, 141]]])"
      ]
     },
     "execution_count": 62,
     "metadata": {},
     "output_type": "execute_result"
    }
   ],
   "source": [
    "# for i in range(len(data)):\n",
    "#     print(data[i]['image_id'])\n",
    "# print(data[5])\n",
    "# print(len(data))\n",
    "# print(len(updated_data))\n",
    "\n",
    "# count = 0\n",
    "# for i in range(len(updated_data)):\n",
    "#     if len(updated_data[i]['segmentation_polygons']) != 2 :\n",
    "#         count += 1\n",
    "# print(count)\n",
    "# 23226-1985\n",
    "\n",
    "# updated_data[0]['segmentation_polygons']\n",
    "np.array(updated_data[0]['segmentation_polygons'])\n",
    "# updated_data[4]"
   ]
  },
  {
   "cell_type": "code",
   "execution_count": 15,
   "metadata": {},
   "outputs": [
    {
     "data": {
      "text/plain": [
       "-1"
      ]
     },
     "execution_count": 15,
     "metadata": {},
     "output_type": "execute_result"
    }
   ],
   "source": [
    "# 흰배경 jpg 만들기\n",
    "# 흰배경을 만들 때는 아래 해당 코드로\n",
    "\n",
    "img = cv2.imread('./data/color_image/'+str(updated_data[125]['image_id'])+'.jpg')\n",
    "height = img.shape[0]\n",
    "width = img.shape[1]\n",
    "mask = np.zeros((height, width), img.dtype) # mask 생성\n",
    "points = np.array(updated_data[125]['segmentation_polygons'][0]).reshape((1,) + np.array(updated_data[125]['segmentation_polygons'][0]).shape)\n",
    "# points -> 채워진 다각형을 그리는 fillPoly에 사용될 point 좌표 \n",
    "cv2.fillPoly(mask, points, (255)) # mask에 해당하는 이미지 영역을 흰색으로 채운 다각형 생성\n",
    "res = cv2.bitwise_and(img,img,mask = mask) # mask에 해당하는 영역이면 1, 아니면 0으로 해서 bitwise 연산\n",
    "\n",
    "# backgroud color -> white\n",
    "bg = np.ones_like(res, np.uint8)*255\n",
    "cv2.bitwise_not(bg,bg, mask=mask)\n",
    "res2 = bg+ res\n",
    "\n",
    "rect = cv2.boundingRect(points) # returns (x,y,w,h) of the rect\n",
    "cropped = res2[rect[1]: rect[1] + rect[3], rect[0]: rect[0] + rect[2]]\n",
    "\n",
    "cv2.imwrite('./data/' + str(updated_data[125]['image_id'])+'.jpg', cropped)\n",
    "cv2.waitKey(0)"
   ]
  },
  {
   "cell_type": "code",
   "execution_count": null,
   "metadata": {},
   "outputs": [],
   "source": [
    "# 1.jpg 만들기\n",
    "img = cv2.imread('./data/color_image/'+str(updated_data[0]['image_id'])+'.jpg')\n",
    "height = img.shape[0]\n",
    "width = img.shape[1]\n",
    "mask = np.zeros((height, width), dtype=np.uint8)\n",
    "points = np.array(updated_data[0]['segmentation_polygons'][0]).reshape((1,) + np.array(updated_data[0]['segmentation_polygons'][0]).shape)\n",
    "cv2.fillPoly(mask, points, (255))\n",
    "res = cv2.bitwise_and(img,img,mask = mask)\n",
    "rect = cv2.boundingRect(points) # returns (x,y,w,h) of the rect\n",
    "cropped = res[rect[1]: rect[1] + rect[3], rect[0]: rect[0] + rect[2]]\n",
    "cv2.imwrite('./data/' + str(updated_data[0]['image_id'])+'.jpg', cropped)\n",
    "cv2.waitKey(0)"
   ]
  },
  {
   "cell_type": "code",
   "execution_count": 3,
   "metadata": {},
   "outputs": [],
   "source": [
    "# 1.jpg를 제외하고 의상 탐지 및 분류 첫번째 사진을 그 색으로 가정하고 crop\n",
    "\n",
    "img_id = 1\n",
    "for i in range(1,len(updated_data)):\n",
    "    img_id =  updated_data[i]['image_id']\n",
    "    this_id = updated_data[i-1]['image_id']\n",
    "    if this_id == img_id:\n",
    "        continue\n",
    "    img = cv2.imread('./data/color_image/'+str(updated_data[i]['image_id'])+'.jpg')\n",
    "    height = img.shape[0]\n",
    "    width = img.shape[1]\n",
    "    mask = np.zeros((height, width), dtype=np.uint8)\n",
    "    points = np.array(updated_data[i]['segmentation_polygons'][0]).reshape((1,) + np.array(updated_data[i]['segmentation_polygons'][0]).shape)\n",
    "    cv2.fillPoly(mask, points, (255))\n",
    "    res = cv2.bitwise_and(img,img,mask = mask)\n",
    "    rect = cv2.boundingRect(points) # returns (x,y,w,h) of the rect\n",
    "    cropped = res[rect[1]: rect[1] + rect[3], rect[0]: rect[0] + rect[2]]\n",
    "    cv2.imwrite('./data/cropped_color_image_add/' + str(updated_data[i]['image_id'])+'.jpg', cropped)\n",
    "    cv2.waitKey(0)"
   ]
  }
 ],
 "metadata": {
  "kernelspec": {
   "display_name": "Python [conda env:pytorch_latest_p37] *",
   "language": "python",
   "name": "conda-env-pytorch_latest_p37-py"
  },
  "language_info": {
   "codemirror_mode": {
    "name": "ipython",
    "version": 3
   },
   "file_extension": ".py",
   "mimetype": "text/x-python",
   "name": "python",
   "nbconvert_exporter": "python",
   "pygments_lexer": "ipython3",
   "version": "3.7.6"
  }
 },
 "nbformat": 4,
 "nbformat_minor": 4
}
