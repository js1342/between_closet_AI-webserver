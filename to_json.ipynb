{
 "cells": [
  {
   "cell_type": "code",
   "execution_count": 1,
   "metadata": {},
   "outputs": [
    {
     "data": {
      "text/plain": [
       "2"
      ]
     },
     "execution_count": 1,
     "metadata": {},
     "output_type": "execute_result"
    }
   ],
   "source": [
    "# 들어온 image를 json 파일형식으로 변환하는 코드\n",
    "\n",
    "import os\n",
    "import json\n",
    "import numpy as np\n",
    "from glob import glob\n",
    "from PIL import Image\n",
    "from collections import OrderedDict\n",
    "\n",
    "# 폴더에서 jpg 형식의 파일들을 모두 읽은 다음 sort\n",
    "# 경로 지정 잘해줘야 해욤\n",
    "image_paths = glob(os.path.join('data', 'color_image','*.jpg'))\n",
    "image_paths.sort()\n",
    "len(image_paths)\n",
    "# Image.open(image_paths[0])"
   ]
  },
  {
   "cell_type": "code",
   "execution_count": 2,
   "metadata": {},
   "outputs": [],
   "source": [
    "#json 형식으로 담을 dict 생성\n",
    "file_data = OrderedDict()\n",
    "file_data['images'] = []\n",
    "\n",
    "# for문으로 mmdetection에서 사용할 file_data 형식으로 변형\n",
    "# 여기서 id 값은 추후 고유 id 값을 집어넣어줘야 함\n",
    "for i in range(len(image_paths)):\n",
    "    img = Image.open(image_paths[i])\n",
    "    filename = image_paths[i].split('/')[-1]\n",
    "    file_id = int(filename.split('.')[0])\n",
    "    dic = {\"file_name\": filename, \"height\": img.size[0], \"width\": img.size[1], \"id\": file_id}\n",
    "    file_data['images'].append(dic)"
   ]
  },
  {
   "cell_type": "code",
   "execution_count": 3,
   "metadata": {},
   "outputs": [],
   "source": [
    "# 21개의 카테고리 분류를 진행할 경우\n",
    "file_data['categories'] = [{\"id\": 1, \"name\": \"top\", \"supercategory\": \"\\uc0c1\\uc758\"}, {\"id\": 2, \"name\": \"blouse\", \"supercategory\": \"\\uc0c1\\uc758\"}, {\"id\": 3, \"name\": \"t-shirt\", \"supercategory\": \"\\uc0c1\\uc758\"}, {\"id\": 4, \"name\": \"Knitted fabri\", \"supercategory\": \"\\uc0c1\\uc758\"}, {\"id\": 5, \"name\": \"shirt\", \"supercategory\": \"\\uc0c1\\uc758\"}, \n",
    "                           {\"id\": 6, \"name\": \"bra top\", \"supercategory\": \"\\uc0c1\\uc758\"}, {\"id\": 7, \"name\": \"hood\", \"supercategory\": \"\\uc0c1\\uc758\"}, {\"id\": 8, \"name\": \"blue jeans\", \"supercategory\": \"\\ud558\\uc758\"}, {\"id\": 9, \"name\": \"pants\", \"supercategory\": \"\\ud558\\uc758\"}, {\"id\": 10, \"name\": \"skirt\", \"supercategory\": \"\\ud558\\uc758\"}, \n",
    "                           {\"id\": 11, \"name\": \"leggings\", \"supercategory\": \"\\ud558\\uc758\"}, {\"id\": 12, \"name\": \"jogger pants\", \"supercategory\": \"\\ud558\\uc758\"}, {\"id\": 13, \"name\": \"coat\", \"supercategory\": \"\\uc544\\uc6b0\\ud130\"}, {\"id\": 14, \"name\": \"jacket\", \"supercategory\": \"\\uc544\\uc6b0\\ud130\"}, {\"id\": 15, \"name\": \"jumper\", \"supercategory\": \"\\uc544\\uc6b0\\ud130\"}, \n",
    "                           {\"id\": 16, \"name\": \"padding jacket\", \"supercategory\": \"\\uc544\\uc6b0\\ud130\"}, {\"id\": 17, \"name\": \"best\", \"supercategory\": \"\\uc544\\uc6b0\\ud130\"}, {\"id\": 18, \"name\": \"kadigan\", \"supercategory\": \"\\uc544\\uc6b0\\ud130\"}, {\"id\": 19, \"name\": \"zip up\", \"supercategory\": \"\\uc544\\uc6b0\\ud130\"}, {\"id\": 20, \"name\": \"dress\", \"supercategory\": \"\\uc6d0\\ud53c\\uc2a4\"}, {\"id\": 21, \"name\": \"jumpsuit\", \"supercategory\": \"\\uc6d0\\ud53c\\uc2a4\"}]"
   ]
  },
  {
   "cell_type": "code",
   "execution_count": null,
   "metadata": {},
   "outputs": [],
   "source": [
    "# 13개의 카테고리 분류를 진행할 경우\n",
    "file_data['categories'] = [{\"id\": 1, \"name\": \"top\", \"supercategory\": \"\\uc0c1\\uc758\"}, {\"id\": 2, \"name\": \"blouse\", \"supercategory\": \"\\uc0c1\\uc758\"}, {\"id\": 3, \"name\": \"t-shirt\", \"supercategory\": \"\\uc0c1\\uc758\"}, {\"id\": 4, \"name\": \"Knitted fabri\", \"supercategory\": \"\\uc0c1\\uc758\"}, {\"id\": 5, \"name\": \"shirt\", \"supercategory\": \"\\uc0c1\\uc758\"}, \n",
    "                           {\"id\": 6, \"name\": \"hood\", \"supercategory\": \"\\uc0c1\\uc758\"}, {\"id\": 7, \"name\": \"blue jeans\", \"supercategory\": \"\\ud558\\uc758\"}, {\"id\": 8, \"name\": \"pants\", \"supercategory\": \"\\ud558\\uc758\"}, {\"id\": 9, \"name\": \"skirt\", \"supercategory\": \"\\ud558\\uc758\"}, {\"id\": 10, \"name\": \"coat\", \"supercategory\": \"\\uc544\\uc6b0\\ud130\"}, \n",
    "                           {\"id\": 11, \"name\": \"jacket\", \"supercategory\": \"\\uc544\\uc6b0\\ud130\"}, {\"id\": 12, \"name\": \"jumper\", \"supercategory\": \"\\uc544\\uc6b0\\ud130\"}, {\"id\": 13, \"name\": \"dress\", \"supercategory\": \"\\uc6d0\\ud53c\\uc2a4\"}]"
   ]
  },
  {
   "cell_type": "code",
   "execution_count": 4,
   "metadata": {
    "scrolled": true
   },
   "outputs": [
    {
     "data": {
      "text/plain": [
       "OrderedDict([('images',\n",
       "              [{'file_name': '1.jpg', 'height': 617, 'width': 850, 'id': 1},\n",
       "               {'file_name': '2.jpg', 'height': 882, 'width': 960, 'id': 2}]),\n",
       "             ('categories',\n",
       "              [{'id': 1, 'name': 'top', 'supercategory': '상의'},\n",
       "               {'id': 2, 'name': 'blouse', 'supercategory': '상의'},\n",
       "               {'id': 3, 'name': 't-shirt', 'supercategory': '상의'},\n",
       "               {'id': 4, 'name': 'Knitted fabri', 'supercategory': '상의'},\n",
       "               {'id': 5, 'name': 'shirt', 'supercategory': '상의'},\n",
       "               {'id': 6, 'name': 'bra top', 'supercategory': '상의'},\n",
       "               {'id': 7, 'name': 'hood', 'supercategory': '상의'},\n",
       "               {'id': 8, 'name': 'blue jeans', 'supercategory': '하의'},\n",
       "               {'id': 9, 'name': 'pants', 'supercategory': '하의'},\n",
       "               {'id': 10, 'name': 'skirt', 'supercategory': '하의'},\n",
       "               {'id': 11, 'name': 'leggings', 'supercategory': '하의'},\n",
       "               {'id': 12, 'name': 'jogger pants', 'supercategory': '하의'},\n",
       "               {'id': 13, 'name': 'coat', 'supercategory': '아우터'},\n",
       "               {'id': 14, 'name': 'jacket', 'supercategory': '아우터'},\n",
       "               {'id': 15, 'name': 'jumper', 'supercategory': '아우터'},\n",
       "               {'id': 16, 'name': 'padding jacket', 'supercategory': '아우터'},\n",
       "               {'id': 17, 'name': 'best', 'supercategory': '아우터'},\n",
       "               {'id': 18, 'name': 'kadigan', 'supercategory': '아우터'},\n",
       "               {'id': 19, 'name': 'zip up', 'supercategory': '아우터'},\n",
       "               {'id': 20, 'name': 'dress', 'supercategory': '원피스'},\n",
       "               {'id': 21, 'name': 'jumpsuit', 'supercategory': '원피스'}])])"
      ]
     },
     "execution_count": 4,
     "metadata": {},
     "output_type": "execute_result"
    }
   ],
   "source": [
    "file_data"
   ]
  },
  {
   "cell_type": "code",
   "execution_count": 5,
   "metadata": {},
   "outputs": [],
   "source": [
    "# 파일명\n",
    "with open('./data/color_image.json', 'w', encoding='utf-8') as make_file:\n",
    "    json.dump(file_data, make_file, ensure_ascii=False)"
   ]
  }
 ],
 "metadata": {
  "kernelspec": {
   "display_name": "Python [conda env:pytorch_latest_p37] *",
   "language": "python",
   "name": "conda-env-pytorch_latest_p37-py"
  },
  "language_info": {
   "codemirror_mode": {
    "name": "ipython",
    "version": 3
   },
   "file_extension": ".py",
   "mimetype": "text/x-python",
   "name": "python",
   "nbconvert_exporter": "python",
   "pygments_lexer": "ipython3",
   "version": "3.7.6"
  }
 },
 "nbformat": 4,
 "nbformat_minor": 4
}
