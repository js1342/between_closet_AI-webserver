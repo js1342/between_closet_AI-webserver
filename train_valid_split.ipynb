{
 "cells": [
  {
   "cell_type": "code",
   "execution_count": 7,
   "metadata": {},
   "outputs": [],
   "source": [
    "# trainset 파일 중 일부를\n",
    "# validset으로 분할\n",
    "\n",
    "import json\n",
    "import os\n",
    "import random\n",
    "\n",
    "def split_dataset(input_json, input_csv, output_dir, val_ratio, random_seed):\n",
    "    random.seed(random_seed)\n",
    "\n",
    "    with open(input_json) as json_reader:\n",
    "        dataset = json.load(json_reader)\n",
    "\n",
    "    images = dataset['images']\n",
    "    annotations = dataset['annotations']\n",
    "    categories = dataset['categories']\n",
    "\n",
    "    # file_name에 prefix 디렉토리까지 포함 (CocoDataset 클래스를 사용하는 경우)\n",
    "    # for image in images:\n",
    "    #     image['file_name'] = '{}/{}'.format(image['file_name'][0], image['file_name'])\n",
    "\n",
    "    image_ids = [x.get('id') for x in images]\n",
    "    image_ids.sort()\n",
    "    random.shuffle(image_ids)\n",
    "\n",
    "    num_val = int(len(image_ids) * val_ratio)\n",
    "    num_train = len(image_ids) - num_val\n",
    "\n",
    "    image_ids_val, image_ids_train = set(image_ids[:num_val]), set(image_ids[num_val:])\n",
    "\n",
    "    train_images = [x for x in images if x.get('id') in image_ids_train]\n",
    "    val_images = [x for x in images if x.get('id') in image_ids_val]\n",
    "    train_annotations = [x for x in annotations if x.get('image_id') in image_ids_train]\n",
    "    val_annotations = [x for x in annotations if x.get('image_id') in image_ids_val]\n",
    "\n",
    "    train_data = {\n",
    "        'images': train_images,\n",
    "        'annotations': train_annotations,\n",
    "        'categories': categories,\n",
    "    }\n",
    "\n",
    "    val_data = {\n",
    "        'images': val_images,\n",
    "        'annotations': val_annotations,\n",
    "        'categories': categories,\n",
    "    }\n",
    "\n",
    "    output_seed_dir = os.path.join(output_dir, f'seed{random_seed}')\n",
    "    os.makedirs(output_seed_dir, exist_ok=True)\n",
    "    output_train_json = os.path.join(output_seed_dir, 'train_new.json')\n",
    "    output_val_json = os.path.join(output_seed_dir, 'val_new.json')\n",
    "    output_train_csv = os.path.join(output_seed_dir, 'train_new.csv')\n",
    "    output_val_csv = os.path.join(output_seed_dir, 'val_new.csv')\n",
    "\n",
    "    print(f'write {output_train_json}')\n",
    "    with open(output_train_json, 'w') as train_writer:\n",
    "        json.dump(train_data, train_writer)\n",
    "\n",
    "    print(f'write {output_val_json}')\n",
    "    with open(output_val_json, 'w') as val_writer:\n",
    "        json.dump(val_data, val_writer)\n",
    "\n",
    "    print(f'write {output_train_csv}, {output_val_csv}')\n",
    "    with open(input_csv, 'r') as csv_reader, \\\n",
    "            open(output_train_csv, 'w') as train_writer, \\\n",
    "            open(output_val_csv, 'w') as val_writer:\n",
    "        train_writer.write('ImageId,EncodedPixels,Height,Width,CategoryId\\n')\n",
    "        val_writer.write('ImageId,EncodedPixels,Height,Width,CategoryId\\n')\n",
    "        for line in csv_reader:\n",
    "            if line.startswith('ImageId'): continue\n",
    "            image_id, encoded_pixels, height, width, category_id = line.strip().split(',')\n",
    "            image_id = int(image_id)\n",
    "            if image_id in image_ids_train:\n",
    "                train_writer.write(line)\n",
    "            elif image_id in image_ids_val:\n",
    "                val_writer.write(line)\n",
    "            else:\n",
    "                raise ValueError(f'unknown image_id: {image_id}')"
   ]
  },
  {
   "cell_type": "code",
   "execution_count": null,
   "metadata": {},
   "outputs": [
    {
     "name": "stdout",
     "output_type": "stream",
     "text": [
      "write ./data/seed20/train_new.json\n",
      "write ./data/seed20/val_new.json\n"
     ]
    },
    {
     "name": "stderr",
     "output_type": "stream",
     "text": [
      "IOPub data rate exceeded.\n",
      "The notebook server will temporarily stop sending output\n",
      "to the client in order to avoid crashing it.\n",
      "To change this limit, set the config variable\n",
      "`--NotebookApp.iopub_data_rate_limit`.\n",
      "\n",
      "Current values:\n",
      "NotebookApp.iopub_data_rate_limit=1000000.0 (bytes/sec)\n",
      "NotebookApp.rate_limit_window=3.0 (secs)\n",
      "\n"
     ]
    }
   ],
   "source": [
    "split_dataset(input_json='./data/train_new.json',\n",
    "              input_csv='./data/train_new.csv',\n",
    "              output_dir='./data/',\n",
    "              val_ratio=0.1,\n",
    "              random_seed=20)"
   ]
  },
  {
   "cell_type": "code",
   "execution_count": 15,
   "metadata": {},
   "outputs": [
    {
     "name": "stdout",
     "output_type": "stream",
     "text": [
      "training data\n",
      "images: 76364\n",
      "annotations: 90092\n",
      "categories: 21\n"
     ]
    }
   ],
   "source": [
    "import json\n",
    "\n",
    "train_data = json.load(open('./data/seed20/train_new.json'))\n",
    "\n",
    "print('training data')\n",
    "print(f'images: {len(train_data[\"images\"])}')\n",
    "print(f'annotations: {len(train_data[\"annotations\"])}')\n",
    "print(f'categories: {len(train_data[\"categories\"])}')"
   ]
  },
  {
   "cell_type": "code",
   "execution_count": 16,
   "metadata": {},
   "outputs": [
    {
     "name": "stdout",
     "output_type": "stream",
     "text": [
      "validation data\n",
      "images: 19090\n",
      "annotations: 22576\n",
      "categories: 21\n"
     ]
    }
   ],
   "source": [
    "val_data = json.load(open('./data/seed20/val_new.json'))\n",
    "\n",
    "print('validation data')\n",
    "print(f'images: {len(val_data[\"images\"])}')\n",
    "print(f'annotations: {len(val_data[\"annotations\"])}')\n",
    "print(f'categories: {len(val_data[\"categories\"])}')"
   ]
  }
 ],
 "metadata": {
  "kernelspec": {
   "display_name": "Python [conda env:pytorch_latest_p37] *",
   "language": "python",
   "name": "conda-env-pytorch_latest_p37-py"
  },
  "language_info": {
   "codemirror_mode": {
    "name": "ipython",
    "version": 3
   },
   "file_extension": ".py",
   "mimetype": "text/x-python",
   "name": "python",
   "nbconvert_exporter": "python",
   "pygments_lexer": "ipython3",
   "version": "3.7.6"
  }
 },
 "nbformat": 4,
 "nbformat_minor": 4
}
